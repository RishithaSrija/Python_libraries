{
  "nbformat": 4,
  "nbformat_minor": 0,
  "metadata": {
    "colab": {
      "provenance": [],
      "collapsed_sections": [
        "qx2zQU10JM00",
        "jFFdOmELOQMk",
        "-7i9bYKddVZJ"
      ],
      "authorship_tag": "ABX9TyMv+eNC8SRQCc7RrdyqpF70",
      "include_colab_link": true
    },
    "kernelspec": {
      "name": "python3",
      "display_name": "Python 3"
    },
    "language_info": {
      "name": "python"
    }
  },
  "cells": [
    {
      "cell_type": "markdown",
      "metadata": {
        "id": "view-in-github",
        "colab_type": "text"
      },
      "source": [
        "<a href=\"https://colab.research.google.com/github/RishithaSrija/Python_libraries/blob/main/Numpy.ipynb\" target=\"_parent\"><img src=\"https://colab.research.google.com/assets/colab-badge.svg\" alt=\"Open In Colab\"/></a>"
      ]
    },
    {
      "cell_type": "code",
      "execution_count": null,
      "metadata": {
        "id": "1jDJIsZ0CaME"
      },
      "outputs": [],
      "source": []
    },
    {
      "cell_type": "markdown",
      "source": [
        "# TaskArray creation"
      ],
      "metadata": {
        "id": "pBpv6jCK8snS"
      }
    },
    {
      "cell_type": "code",
      "source": [
        "arr1=np.arange(10,51)\n",
        "print(arr1)\n",
        "ran_arr=np.random.random((3,3))\n",
        "print(ran_arr)\n",
        "#1\n",
        "print(\"Array:\",end='\\n')\n",
        "print(\"Shape: \",arr1.shape)\n",
        "print(\"Size: \",arr1.size)\n",
        "print(\"Data type: \",arr1.dtype)\n",
        "print(\"Random Array:\")\n",
        "print(\"Shape: \",ran_arr.shape)\n",
        "print(\"Size: \",ran_arr.size)\n",
        "print(\"Data type: \",ran_arr.dtype)\n",
        "print()\n",
        "#2\n",
        "print(arr1+5)\n",
        "arr2=np.array([[1,2,3],[8,9,7]])\n",
        "arr3=np.array([[3,4,2],[7,5,4]])\n",
        "print(arr2)\n",
        "print(arr3)\n",
        "print()\n",
        "#3\n",
        "arr5=np.arange(1,26).reshape(5,5)\n",
        "print(arr5)\n",
        "print(arr5[0])\n",
        "print(arr5[4])\n",
        "print(\"Subarray: first 3 rows and first 2 columns: \",arr5[0:4,0:3])\n",
        "#4\n",
        "arr6=np.random.randint(10,101,size=10)\n",
        "print(arr6)\n",
        "print(\"Maximum:\",arr6.max())\n",
        "print(\"Minimum:\",arr6.min())\n",
        "print(\"Mean:\",arr6.mean())\n",
        "print(\"Standard Deviation:\",arr6.std())\n",
        "\n",
        "#5\n",
        "\n",
        "n_ar=np.array([range(1,13)])\n",
        "print(\"Reshape: \",n_ar.reshape(3,4))\n",
        "\n",
        "#6\n",
        "n_one=np.ones((3,3))\n",
        "print(\"Add [1,2,3] to each row:\",n_one[:,:]+[1,2,3])\n",
        "print()\n",
        "#7\n",
        "arr7=np.random.randint(1,51,size=15)\n",
        "print(\"Integers divisible by 5 from 1 to 50:\",arr7[arr7%5==0])\n",
        "#8\n",
        "m=np.array([[3,2],[4,3]])\n",
        "n=np.array([[90,7],[6,87]])\n",
        "print(\"Matrix multiplication\",m*n)\n",
        "#9\n",
        "arr8=np.arange(1,17).reshape(4,4)\n",
        "# print(\"Diagonal elements:\",arr8.diag(arr8))\n",
        "diag = arr8[np.arange(arr8.shape[0]), np.arange(arr8.shape[1])]\n",
        "print(\"Diagonal elements:\",diag)"
      ],
      "metadata": {
        "colab": {
          "base_uri": "https://localhost:8080/"
        },
        "id": "H7UrfFbH9F8-",
        "outputId": "b5ecc3a1-8b89-4274-bf9c-b03b3f016dd3"
      },
      "execution_count": 135,
      "outputs": [
        {
          "output_type": "stream",
          "name": "stdout",
          "text": [
            "[10 11 12 13 14 15 16 17 18 19 20 21 22 23 24 25 26 27 28 29 30 31 32 33\n",
            " 34 35 36 37 38 39 40 41 42 43 44 45 46 47 48 49 50]\n",
            "[[0.80480766 0.37452711 0.43413174]\n",
            " [0.68727155 0.63169584 0.96425914]\n",
            " [0.24440585 0.55142788 0.88754497]]\n",
            "Array:\n",
            "Shape:  (41,)\n",
            "Size:  41\n",
            "Data type:  int64\n",
            "Random Array:\n",
            "Shape:  (3, 3)\n",
            "Size:  9\n",
            "Data type:  float64\n",
            "\n",
            "[15 16 17 18 19 20 21 22 23 24 25 26 27 28 29 30 31 32 33 34 35 36 37 38\n",
            " 39 40 41 42 43 44 45 46 47 48 49 50 51 52 53 54 55]\n",
            "[[1 2 3]\n",
            " [8 9 7]]\n",
            "[[3 4 2]\n",
            " [7 5 4]]\n",
            "\n",
            "[[ 1  2  3  4  5]\n",
            " [ 6  7  8  9 10]\n",
            " [11 12 13 14 15]\n",
            " [16 17 18 19 20]\n",
            " [21 22 23 24 25]]\n",
            "[1 2 3 4 5]\n",
            "[21 22 23 24 25]\n",
            "Subarray: first 3 rows and first 2 columns:  [[ 1  2  3]\n",
            " [ 6  7  8]\n",
            " [11 12 13]\n",
            " [16 17 18]]\n",
            "[13 78 70 26 54 15 59 28 22 18]\n",
            "Maximum: 78\n",
            "Minimum: 13\n",
            "Mean: 38.3\n",
            "Standard Deviation: 23.182105167564053\n",
            "Reshape:  [[ 1  2  3  4]\n",
            " [ 5  6  7  8]\n",
            " [ 9 10 11 12]]\n",
            "Add [1,2,3] to each row: [[2. 3. 4.]\n",
            " [2. 3. 4.]\n",
            " [2. 3. 4.]]\n",
            "\n",
            "Integers divisible by 5 from 1 to 50: [40 20 40]\n",
            "Matrix multiplication [[270  14]\n",
            " [ 24 261]]\n",
            "Diagonal elements: [ 1  6 11 16]\n"
          ]
        }
      ]
    },
    {
      "cell_type": "code",
      "source": [],
      "metadata": {
        "id": "FgO7t6rS-0ew"
      },
      "execution_count": null,
      "outputs": []
    },
    {
      "cell_type": "markdown",
      "source": [
        "# Numpy\n"
      ],
      "metadata": {
        "id": "nRojgAvHCkHk"
      }
    },
    {
      "cell_type": "code",
      "source": [
        "import numpy as np\n",
        "arr_np=np.array([1,2,3,4,5])\n",
        "print(arr_np)"
      ],
      "metadata": {
        "colab": {
          "base_uri": "https://localhost:8080/"
        },
        "id": "g69cXzWfCrp0",
        "outputId": "41bd36dc-321d-4f6f-bd25-7290f5fafbcf"
      },
      "execution_count": 1,
      "outputs": [
        {
          "output_type": "stream",
          "name": "stdout",
          "text": [
            "[1 2 3 4 5]\n"
          ]
        }
      ]
    },
    {
      "cell_type": "code",
      "source": [
        "import numpy as np\n",
        "arr_np1=np.array([[1,2,3],[4,5,6]])\n",
        "print(arr_np1)\n",
        "print(arr_np1.shape)\n",
        "print(arr_np1.dtype)\n",
        "print()\n",
        "np.save('array.npy',arr_np1)\n",
        "loaded_arr=np.load('array.npy')\n",
        "print(loaded_arr)\n"
      ],
      "metadata": {
        "colab": {
          "base_uri": "https://localhost:8080/"
        },
        "id": "27I5Ozg1D1CZ",
        "outputId": "b5e15598-562a-4804-e511-871cafe71e84"
      },
      "execution_count": 109,
      "outputs": [
        {
          "output_type": "stream",
          "name": "stdout",
          "text": [
            "[[1 2 3]\n",
            " [4 5 6]]\n",
            "(2, 3)\n",
            "int64\n",
            "\n",
            "[[1 2 3]\n",
            " [4 5 6]]\n"
          ]
        }
      ]
    },
    {
      "cell_type": "code",
      "source": [
        "arr=np.array([1,2,34,56,78,9])\n",
        "reshaped=arr.reshape(2,3)\n",
        "print(reshaped)\n",
        "#view-shares the memory\n",
        "arr=np.array([1,2,3])\n",
        "view=arr.view()\n",
        "print(view)\n",
        "view[0]=4\n",
        "print(view)\n",
        "print(arr)\n",
        "print()\n",
        "#copy -do not share the memory\n",
        "arr=np.array([1,2,3])\n",
        "copy=arr.copy()\n",
        "print(copy)\n",
        "copy[0]=74\n",
        "print(copy)\n",
        "print(arr)"
      ],
      "metadata": {
        "colab": {
          "base_uri": "https://localhost:8080/"
        },
        "id": "gFIL8O3C2Kty",
        "outputId": "89939e51-018b-4e8c-af0f-2a3a2f7bf918"
      },
      "execution_count": 107,
      "outputs": [
        {
          "output_type": "stream",
          "name": "stdout",
          "text": [
            "[[ 1  2 34]\n",
            " [56 78  9]]\n",
            "[1 2 3]\n",
            "[4 2 3]\n",
            "[4 2 3]\n",
            "\n",
            "[1 2 3]\n",
            "[74  2  3]\n",
            "[1 2 3]\n"
          ]
        }
      ]
    },
    {
      "cell_type": "code",
      "source": [
        "m=np.array([1,4,6])\n",
        "n=np.array([2,5,7])\n",
        "#stacking\n",
        "print(\"Vertical stack:\",np.vstack((m,n)))\n",
        "print(\"Horizontal stack:\",np.hstack((m,n)))\n",
        "print(\"Column stack:\",np.column_stack((m,n)))\n",
        "#splitting\n",
        "\n",
        "print(\"Splitting into parts:\",np.array_split(m,2))\n",
        "indices=[0,2]\n",
        "print(arr[indices])"
      ],
      "metadata": {
        "colab": {
          "base_uri": "https://localhost:8080/"
        },
        "id": "M9E7Lpjs2evC",
        "outputId": "bf9b6a47-50e9-49e9-f48d-3f40e284512d"
      },
      "execution_count": 104,
      "outputs": [
        {
          "output_type": "stream",
          "name": "stdout",
          "text": [
            "Vertical stack: [[1 4 6]\n",
            " [2 5 7]]\n",
            "Horizontal stack: [1 4 6 2 5 7]\n",
            "Column stack: [[1 2]\n",
            " [4 5]\n",
            " [6 7]]\n",
            "Splitting into parts: [array([1, 4]), array([6])]\n",
            "[ 1 34]\n"
          ]
        }
      ]
    },
    {
      "cell_type": "markdown",
      "source": [
        "# Data Engineer\n"
      ],
      "metadata": {
        "id": "qx2zQU10JM00"
      }
    },
    {
      "cell_type": "code",
      "source": [
        "temp_data=np.array([[22,25,20],[24,26,23]])\n",
        "print(temp_data)\n",
        "print(\"Shape:\",temp_data.shape)\n",
        "print(\"Size:\",temp_data.size)\n",
        "print(\"Data Type:\",temp_data.dtype)\n",
        "print(\"Dimension:\",temp_data.ndim)\n",
        "\n",
        "gh3=np.array([21,23,22])\n",
        "update_temp_data=np.vstack((temp_data,gh3))\n",
        "print(update_temp_data)\n",
        "\n",
        "sensor_array_flags=np.zeros((2,3))\n",
        "print(sensor_array_flags)\n",
        "greenhouse_identity=np.eye(3,3)\n",
        "print(greenhouse_identity)\n"
      ],
      "metadata": {
        "colab": {
          "base_uri": "https://localhost:8080/"
        },
        "id": "s0yw0d3TJZNB",
        "outputId": "3fb91a39-4caa-47cc-ffdc-6e459cc3087b"
      },
      "execution_count": 37,
      "outputs": [
        {
          "output_type": "stream",
          "name": "stdout",
          "text": [
            "[[22 25 20]\n",
            " [24 26 23]]\n",
            "Shape: (2, 3)\n",
            "Size: 6\n",
            "Data Type: int64\n",
            "Dimension: 2\n",
            "[[22 25 20]\n",
            " [24 26 23]\n",
            " [21 23 22]]\n",
            "[[0. 0. 0.]\n",
            " [0. 0. 0.]]\n",
            "[[1. 0. 0.]\n",
            " [0. 1. 0.]\n",
            " [0. 0. 1.]]\n"
          ]
        }
      ]
    },
    {
      "cell_type": "code",
      "source": [
        "ar=np.array([[23,32,2],[5,54,565]])\n",
        "print(ar[1,1])\n",
        "print(ar[1,-3])\n",
        "print(np.sort(ar))\n",
        "print(ar[:,1:])\n",
        "arr=np.array([[[1,2,3,11],[4,5,6,21]],\n",
        "              [[34,45,56,12],[66,43,67,21]]])\n",
        "print(arr[:,1,:])"
      ],
      "metadata": {
        "colab": {
          "base_uri": "https://localhost:8080/"
        },
        "id": "w42yJZvAMAD1",
        "outputId": "cfe70b57-dabc-43f7-86b1-0d093c6f5f20"
      },
      "execution_count": 46,
      "outputs": [
        {
          "output_type": "stream",
          "name": "stdout",
          "text": [
            "54\n",
            "5\n",
            "[[  2  23  32]\n",
            " [  5  54 565]]\n",
            "[[ 32   2]\n",
            " [ 54 565]]\n",
            "[[ 4  5  6 21]\n",
            " [66 43 67 21]]\n"
          ]
        }
      ]
    },
    {
      "cell_type": "markdown",
      "source": [
        "#Data Analyst"
      ],
      "metadata": {
        "id": "jFFdOmELOQMk"
      }
    },
    {
      "cell_type": "code",
      "source": [
        "shipments=np.array([[50,60,55,70,65,80,90],[40,45,50,60,55,70,75]])\n",
        "print(shipments)\n",
        "\n",
        "print(\"Apples shipped on Wednesday:\",shipments[0,2])\n",
        "print(\"Oranges shipped on Sunday:\",shipments[1,6])\n",
        "print(\"Mon-Fri all fruits\",shipments[:,0:5])\n",
        "print(\"Weekend shipments:\",shipments[:,5:7])\n",
        "print(\"Apples from wed to sat:\",shipments[0,2:6])\n",
        "shipments[0][5]=100\n",
        "print(\"Replaced the saturday shipment of apples with 100 using indexing\",shipments)\n"
      ],
      "metadata": {
        "colab": {
          "base_uri": "https://localhost:8080/"
        },
        "id": "kowkg0meOVHf",
        "outputId": "166f9d99-ea78-44f1-c8d2-656f37412e22"
      },
      "execution_count": 55,
      "outputs": [
        {
          "output_type": "stream",
          "name": "stdout",
          "text": [
            "[[50 60 55 70 65 80 90]\n",
            " [40 45 50 60 55 70 75]]\n",
            "Apples shipped on Wednesday: 55\n",
            "Oranges shipped on Sunday: 75\n",
            "Mon-Fri all fruits [[50 60 55 70 65]\n",
            " [40 45 50 60 55]]\n",
            "Weekend shipments: [[80 90]\n",
            " [70 75]]\n",
            "Apples from wed to sat: [55 70 65 80]\n",
            "Replaced the saturday shipment of apples with 100 using indexing [[ 50  60  55  70  65 100  90]\n",
            " [ 40  45  50  60  55  70  75]]\n"
          ]
        }
      ]
    },
    {
      "cell_type": "code",
      "source": [
        "m=np.array([2,6,9])\n",
        "n=np.array([7,6,5])\n",
        "print(\"Addition:\",m+n)\n",
        "print(\"Multiplication:\",m*n)\n",
        "print(\"Scalar operations:\",n*5,n+3)\n",
        "\n",
        "ar=np.array([[23,32,2],[5,54,565]])\n",
        "arr=np.array([[1,2,3,11],[4,5,6,21],\n",
        "             [66,43,67,21]])\n",
        "print(np.dot(ar,arr))\n",
        "print(np.exp(ar))\n",
        "print()\n",
        "print(np.sqrt(arr))\n",
        "print()\n",
        "print(np.log(arr))\n",
        "print(np.expm1(ar))\n",
        "print()\n",
        "print(np.log1p(arr))\n",
        "print()\n",
        "print(np.sin(ar))\n",
        "print(np.arctan(ar))\n",
        "print(np.degrees(ar))\n",
        "print()\n",
        "# x = np.array([True, False, True, False])\n",
        "# y = np.array([True, True, False, False])\n",
        "\n",
        "# print(np.logical_and(x, y))\n",
        "print(np.logical_xor(m, n))\n",
        "print(np.invert(m,n))\n",
        "print(np.bitwise_or(m,n))\n",
        "print(np.equal(m,n))\n",
        "\n"
      ],
      "metadata": {
        "colab": {
          "base_uri": "https://localhost:8080/"
        },
        "id": "dUdlhgEIXF1-",
        "outputId": "b9a7e9d3-fe93-4a98-e062-5dffdb3d10a8"
      },
      "execution_count": 73,
      "outputs": [
        {
          "output_type": "stream",
          "name": "stdout",
          "text": [
            "Addition: [ 9 12 14]\n",
            "Multiplication: [14 36 45]\n",
            "Scalar operations: [35 30 25] [10  9  8]\n",
            "[[  283   292   395   967]\n",
            " [37511 24575 38194 13054]]\n",
            "[[9.74480345e+009 7.89629602e+013 7.38905610e+000]\n",
            " [1.48413159e+002 2.83075330e+023 2.37893335e+245]]\n",
            "\n",
            "[[1.         1.41421356 1.73205081 3.31662479]\n",
            " [2.         2.23606798 2.44948974 4.58257569]\n",
            " [8.1240384  6.55743852 8.18535277 4.58257569]]\n",
            "\n",
            "[[0.         0.69314718 1.09861229 2.39789527]\n",
            " [1.38629436 1.60943791 1.79175947 3.04452244]\n",
            " [4.18965474 3.76120012 4.20469262 3.04452244]]\n",
            "[[9.74480345e+009 7.89629602e+013 6.38905610e+000]\n",
            " [1.47413159e+002 2.83075330e+023 2.37893335e+245]]\n",
            "\n",
            "[[0.69314718 1.09861229 1.38629436 2.48490665]\n",
            " [1.60943791 1.79175947 1.94591015 3.09104245]\n",
            " [4.20469262 3.78418963 4.21950771 3.09104245]]\n",
            "\n",
            "[[-0.8462204   0.55142668  0.90929743]\n",
            " [-0.95892427 -0.55878905 -0.46769187]]\n",
            "[[1.52734543 1.53955649 1.10714872]\n",
            " [1.37340077 1.55227992 1.56902642]]\n",
            "[[ 1317.8029288   1833.46494442   114.59155903]\n",
            " [  286.47889757  3093.97209371 32372.11542489]]\n",
            "\n",
            "[False False False]\n",
            "[ -3  -7 -10]\n",
            "[-1 -1 -1]\n",
            "[False False False]\n"
          ]
        }
      ]
    },
    {
      "cell_type": "markdown",
      "source": [
        "# Data Engineer (renewable-energy)\n"
      ],
      "metadata": {
        "id": "-7i9bYKddVZJ"
      }
    },
    {
      "cell_type": "code",
      "source": [
        "import numpy as np\n",
        "\n",
        "farmA=np.array([[10,12,11],[9,11,10],[12,13,14],[8,7,9]])\n",
        "farmB=np.array([[20,19,21],[18,20,19],[22,23,21],[17,18,16]])\n",
        "farmC=np.array([[15,16,14],[14,13,15],[16,17,18],[12,11,13]])\n",
        "#1\n",
        "production_al1=np.array([farmA,farmB,farmC])\n",
        "print(production_al1)\n",
        "print()\n",
        "#2\n",
        "print(production_al1.shape)\n",
        "print(production_al1.size)\n",
        "print(production_al1.ndim)\n",
        "print(production_al1.dtype)\n",
        "#3\n",
        "tot_per_farm=np.sum(production_al1,axis=(1,2))\n",
        "print(tot_per_farm)\n",
        "print(tot_per_farm.shape)\n",
        "mean_per_farm = np.mean(production_al1, axis=(1, 2))\n",
        "std_per_farm = np.std(production_al1, axis=(1, 2))\n",
        "var_per_farm = np.var(production_al1, axis=(1, 2))\n",
        "\n",
        "print(\"Mean per farm:\", mean_per_farm)\n",
        "print(\"Standard deviation per farm:\", std_per_farm)\n",
        "print(\"Variance per farm:\", var_per_farm)\n",
        "\n",
        "#4\n",
        "hours_wt=np.array([0.5,1.0,0.75])\n",
        "weight_per_panel=np.dot(production_al1,hours_wt)\n",
        "print(\"dot product  between each farm's panel-row and hours_wt:\",weight_per_panel)\n",
        "\n",
        "#5\n",
        "addition = np.zeros_like(production_al1, dtype=float)\n",
        "addition[1,:,:]=0.5\n",
        "production_al1=production_al1+addition\n",
        "print(production_al1)\n",
        "\n",
        "#6\n",
        "sub=np.zeros_like(production_al1,dtype=float)\n",
        "sub[:,:,:]=mean_per_farm\n",
        "production_al1=production_al1-sub\n",
        "print(\"subtract the per-farm mean (use broadcasting):\",production_al1)\n",
        "print()\n",
        "div=np.zeros_like(production_al1,dtype=float)\n",
        "div[:,:,:]=production_al1/std_per_farm[:,np.newaxis,np.newaxis]\n",
        "print(\"After dividing by the per-farm std (z-score normalized broadcasting):\",production_al1)\n",
        "print()\n",
        "\n",
        "\n"
      ],
      "metadata": {
        "colab": {
          "base_uri": "https://localhost:8080/"
        },
        "id": "rDAeY3Spdfx9",
        "outputId": "ad8ae3d6-f905-4d75-8de1-934de2464ee8"
      },
      "execution_count": 2,
      "outputs": [
        {
          "output_type": "stream",
          "name": "stdout",
          "text": [
            "[[[10 12 11]\n",
            "  [ 9 11 10]\n",
            "  [12 13 14]\n",
            "  [ 8  7  9]]\n",
            "\n",
            " [[20 19 21]\n",
            "  [18 20 19]\n",
            "  [22 23 21]\n",
            "  [17 18 16]]\n",
            "\n",
            " [[15 16 14]\n",
            "  [14 13 15]\n",
            "  [16 17 18]\n",
            "  [12 11 13]]]\n",
            "\n",
            "(3, 4, 3)\n",
            "36\n",
            "3\n",
            "int64\n",
            "[126 234 174]\n",
            "(3,)\n",
            "Mean per farm: [10.5 19.5 14.5]\n",
            "Standard deviation per farm: [1.97905701 1.97905701 1.97905701]\n",
            "Variance per farm: [3.91666667 3.91666667 3.91666667]\n",
            "dot product  between each farm's panel-row and hours_wt: [[25.25 23.   29.5  17.75]\n",
            " [44.75 43.25 49.75 38.5 ]\n",
            " [34.   31.25 38.5  26.75]]\n",
            "[[[10.  12.  11. ]\n",
            "  [ 9.  11.  10. ]\n",
            "  [12.  13.  14. ]\n",
            "  [ 8.   7.   9. ]]\n",
            "\n",
            " [[20.5 19.5 21.5]\n",
            "  [18.5 20.5 19.5]\n",
            "  [22.5 23.5 21.5]\n",
            "  [17.5 18.5 16.5]]\n",
            "\n",
            " [[15.  16.  14. ]\n",
            "  [14.  13.  15. ]\n",
            "  [16.  17.  18. ]\n",
            "  [12.  11.  13. ]]]\n",
            "subtract the per-farm mean (use broadcasting): [[[ -0.5  -7.5  -3.5]\n",
            "  [ -1.5  -8.5  -4.5]\n",
            "  [  1.5  -6.5  -0.5]\n",
            "  [ -2.5 -12.5  -5.5]]\n",
            "\n",
            " [[ 10.    0.    7. ]\n",
            "  [  8.    1.    5. ]\n",
            "  [ 12.    4.    7. ]\n",
            "  [  7.   -1.    2. ]]\n",
            "\n",
            " [[  4.5  -3.5  -0.5]\n",
            "  [  3.5  -6.5   0.5]\n",
            "  [  5.5  -2.5   3.5]\n",
            "  [  1.5  -8.5  -1.5]]]\n",
            "\n",
            "After dividing by the per-farm std (z-score normalized broadcasting): [[[ -0.5  -7.5  -3.5]\n",
            "  [ -1.5  -8.5  -4.5]\n",
            "  [  1.5  -6.5  -0.5]\n",
            "  [ -2.5 -12.5  -5.5]]\n",
            "\n",
            " [[ 10.    0.    7. ]\n",
            "  [  8.    1.    5. ]\n",
            "  [ 12.    4.    7. ]\n",
            "  [  7.   -1.    2. ]]\n",
            "\n",
            " [[  4.5  -3.5  -0.5]\n",
            "  [  3.5  -6.5   0.5]\n",
            "  [  5.5  -2.5   3.5]\n",
            "  [  1.5  -8.5  -1.5]]]\n",
            "\n"
          ]
        }
      ]
    },
    {
      "cell_type": "code",
      "source": [
        "farmA=np.array([[10,12,11],[9,11,10],[12,13,14],[8,7,9]])\n",
        "farmB=np.array([[20,19,21],[18,20,19],[22,23,21],[17,18,16]])\n",
        "farmC=np.array([[15,16,14],[14,13,15],[16,17,18],[12,11,13]])\n",
        "production_al=np.array([farmA,farmB,farmC])\n",
        "print(production_al)\n",
        "print(\"Shape of production data:\", production_al.shape)\n",
        "print()\n",
        "#exponential and logarithmic functions\n",
        "exp_data=np.exp(production_al)\n",
        "expm1_data=np.expm1(production_al)\n",
        "\n",
        "log_data=np.log(production_al)\n",
        "log10_data=np.log10(production_al)\n",
        "log2_data=np.log2(production_al)\n",
        "print(\"Exponential family results:\")\n",
        "print(\"exp-> shape:\",exp_data.shape,\", dtype: \",exp_data.dtype)\n",
        "print(\"exmp1 -> first row:\\n \",expm1_data[0])\n",
        "print(\"log -> first row:\\n \",log_data[0])\n",
        "print(\"log10 -> first row:\\n \",log10_data[0])\n",
        "print(\"log2 -> first row:\\n \",log2_data[0])\n",
        "\n",
        "#trignometric fun\n",
        "sin_data=np.sin(production_al)\n",
        "cos_data=np.cos(production_al)\n",
        "tan_data=np.tan(production_al)\n",
        "\n",
        "clipped=np.clip(production_al,-1,1)\n",
        "arcsin_data=np.arcsin(clipped)\n",
        "arccos_data=np.arccos(clipped)\n",
        "arctan_data=np.arctan(clipped)\n",
        "\n",
        "deg_data=np.degrees(production_al)\n",
        "rad_data=np.radians(production_al)\n",
        "\n",
        "print(\"Trigonometric family results:\")\n",
        "print(\"cos -> first row:\\n \",cos_data[0])\n",
        "print(\"arctan (in degrees) -> first row:\\n\", deg_data[0])\n",
        "print()\n",
        "\n",
        "#Rounding funs\n",
        "round_data=np.round(production_al/3.3,2)\n",
        "floor_data=np.floor(production_al/3.3)\n",
        "trunc_data=np.trunc(production_al/3.3)\n",
        "print(\"Round: \",round_data[0][0])\n",
        "print(\"Floor: \",floor_data[0][0])\n",
        "print(\"Trunc: \",trunc_data[0][0])\n",
        "\n",
        "high_output=production_al>20\n",
        "\n",
        "even_hr_mask=(np.arange(production_al.shape[2])%2==0)\n",
        "even_hr_mask=np.tile(even_hr_mask,(production_al.shape[0], production_al.shape[1], 1))\n",
        "\n",
        "and_mask=np.logical_and(high_output,even_hr_mask)\n",
        "\n",
        "not_mask=np.logical_not(high_output)\n",
        "print(\"Logical mask examples (Farm B first row):\")\n",
        "print(\"High output mask:\\n\", high_output[1][0])\n",
        "print(\"Even hours mask:\\n\", even_hr_mask[1][0])\n",
        "print(\"AND mask:\\n\", not_mask[1][0])\n",
        "print()\n",
        "\n",
        "grt_eq_mask=np.greater_equal(production_al,20)\n",
        "less_eq_mask=np.less(production_al,15)\n",
        "\n",
        "print(\"Comparison ufuncs examples:\")\n",
        "print(\"Greater or equal to 15 (Farm C first row):\", grt_eq_mask[2][0])\n",
        "print(\"Less than 10 (Farm A first row):\", less_eq_mask[0][0])\n",
        "print()\n",
        "\n",
        "alerts = np.array([\n",
        "    [[1,0,1],[0,0,1],[1,1,0],[0,1,0]],\n",
        "    [[1,0,1],[0,0,1],[1,1,0],[0,1,0]],\n",
        "    [[1,0,1],[0,0,1],[1,1,0],[0,1,0]]\n",
        "])\n",
        "bit_and = np.bitwise_and(production_al.astype(int) > 18, alerts)\n",
        "bit_or  = np.bitwise_or(production_al.astype(int) > 18, alerts)\n",
        "bit_not = np.invert(alerts.astype(bool))\n",
        "\n",
        "print(\"Bitwise operations examples (Farm B first row):\")\n",
        "print(\"Bitwise AND:\\n\", bit_and[1][0])\n",
        "print(\"Bitwise OR:\\n\", bit_or[1][0])\n",
        "print(\"Bitwise NOT (on alerts):\\n\", bit_not[1][0])\n",
        "print()\n",
        "\n",
        "#Arithmetic funs\n",
        "add_data=np.add(production_al,10)\n",
        "divided=np.divide(farmB,(farmA+1))\n",
        "power=np.power(farmA,2)\n",
        "modulus=np.mod(farmC,2)\n",
        "\n",
        "print(\"Addition :\",add_data)\n",
        "print(\"Divison: \",divided)\n",
        "print(\"Power: \",power)\n",
        "print(\"Modulus: \",modulus)\n",
        "\n",
        "#Aggregate ufunc\n",
        "sum_exp = np.sum(np.exp(production_al))\n",
        "mean_sin = np.mean(np.sin(production_al))\n",
        "\n",
        "print(\"Aggregations over ufunc outputs:\")\n",
        "print(\"Sum of exp:\", np.round(sum_exp, 2))\n",
        "print(\"Mean of sin:\", np.round(mean_sin, 4))\n",
        "print()\n",
        "\n",
        "#broadcast-summary table\n",
        "panel_tot_farm=np.sum(production_al,axis=2)\n",
        "print(\"Panel total per farms\",panel_tot_farm)\n",
        "print()\n",
        "max_per_farm = np.max(panel_tot_farm, axis=1)\n",
        "any_below_40 = np.any(panel_tot_farm < 40, axis=1)\n",
        "all_above_50 = np.all(panel_tot_farm > 50, axis=1)\n",
        "\n",
        "print(\"Max per farm:\", max_per_farm)\n",
        "print(\"Any below 40:\", any_below_40)\n",
        "print(\"All above 50:\", all_above_50)\n",
        "print()\n",
        "\n",
        "#Final KPIs\n",
        "# Overall total of all farms\n",
        "overall_total = np.sum(production_al)\n",
        "\n",
        "# Peak hour info — find max value & its indices\n",
        "peak_value = np.max(production_al)\n",
        "peak_index = np.argmax(production_al)  # flattened index\n",
        "farm_idx, panel_idx, hour_idx = np.unravel_index(peak_index, production_al.shape)\n",
        "\n",
        "# Average per panel across all farms (mean over farms and hours)\n",
        "average_per_panel = np.mean(production_al, axis=(0,2))  # shape (4,)\n",
        "\n",
        "print(\"Final KPIs:\")\n",
        "print(f\"Overall total production across all farms: {overall_total}\")\n",
        "print(f\"Peak value: {peak_value} (Farm {farm_idx+1}, Panel {panel_idx+1}, Hour {hour_idx+1})\")\n",
        "print(\"Average per panel across all farms:\", np.round(average_per_panel, 2))\n",
        "\n",
        "\n",
        "\n"
      ],
      "metadata": {
        "colab": {
          "base_uri": "https://localhost:8080/"
        },
        "id": "2W9cBRwIK_Pg",
        "outputId": "59db52e2-6ace-4c65-848b-135985b6a8d1"
      },
      "execution_count": 14,
      "outputs": [
        {
          "output_type": "stream",
          "name": "stdout",
          "text": [
            "[[[10 12 11]\n",
            "  [ 9 11 10]\n",
            "  [12 13 14]\n",
            "  [ 8  7  9]]\n",
            "\n",
            " [[20 19 21]\n",
            "  [18 20 19]\n",
            "  [22 23 21]\n",
            "  [17 18 16]]\n",
            "\n",
            " [[15 16 14]\n",
            "  [14 13 15]\n",
            "  [16 17 18]\n",
            "  [12 11 13]]]\n",
            "Shape of production data: (3, 4, 3)\n",
            "\n",
            "Exponential family results:\n",
            "exp-> shape: (3, 4, 3) , dtype:  float64\n",
            "exmp1 -> first row:\n",
            "  [[2.20254658e+04 1.62753791e+05 5.98731417e+04]\n",
            " [8.10208393e+03 5.98731417e+04 2.20254658e+04]\n",
            " [1.62753791e+05 4.42412392e+05 1.20260328e+06]\n",
            " [2.97995799e+03 1.09563316e+03 8.10208393e+03]]\n",
            "log -> first row:\n",
            "  [[2.30258509 2.48490665 2.39789527]\n",
            " [2.19722458 2.39789527 2.30258509]\n",
            " [2.48490665 2.56494936 2.63905733]\n",
            " [2.07944154 1.94591015 2.19722458]]\n",
            "log10 -> first row:\n",
            "  [[1.         1.07918125 1.04139269]\n",
            " [0.95424251 1.04139269 1.        ]\n",
            " [1.07918125 1.11394335 1.14612804]\n",
            " [0.90308999 0.84509804 0.95424251]]\n",
            "log2 -> first row:\n",
            "  [[3.32192809 3.5849625  3.45943162]\n",
            " [3.169925   3.45943162 3.32192809]\n",
            " [3.5849625  3.70043972 3.80735492]\n",
            " [3.         2.80735492 3.169925  ]]\n",
            "Trigonometric family results:\n",
            "cos -> first row:\n",
            "  [[-0.83907153  0.84385396  0.0044257 ]\n",
            " [-0.91113026  0.0044257  -0.83907153]\n",
            " [ 0.84385396  0.90744678  0.13673722]\n",
            " [-0.14550003  0.75390225 -0.91113026]]\n",
            "arctan (in degrees) -> first row:\n",
            " [[572.95779513 687.54935416 630.25357464]\n",
            " [515.66201562 630.25357464 572.95779513]\n",
            " [687.54935416 744.84513367 802.14091318]\n",
            " [458.3662361  401.07045659 515.66201562]]\n",
            "\n",
            "Round:  [3.03 3.64 3.33]\n",
            "Floor:  [3. 3. 3.]\n",
            "Trunc:  [3. 3. 3.]\n",
            "Logical mask examples (Farm B first row):\n",
            "High output mask:\n",
            " [False False  True]\n",
            "Even hours mask:\n",
            " [ True False  True]\n",
            "AND mask:\n",
            " [ True  True False]\n",
            "\n",
            "Comparison ufuncs examples:\n",
            "Greater or equal to 15 (Farm C first row): [False False False]\n",
            "Less than 10 (Farm A first row): [ True  True  True]\n",
            "\n",
            "Bitwise operations examples (Farm B first row):\n",
            "Bitwise AND:\n",
            " [1 0 1]\n",
            "Bitwise OR:\n",
            " [1 1 1]\n",
            "Bitwise NOT (on alerts):\n",
            " [False  True False]\n",
            "\n",
            "Addition : [[[20 22 21]\n",
            "  [19 21 20]\n",
            "  [22 23 24]\n",
            "  [18 17 19]]\n",
            "\n",
            " [[30 29 31]\n",
            "  [28 30 29]\n",
            "  [32 33 31]\n",
            "  [27 28 26]]\n",
            "\n",
            " [[25 26 24]\n",
            "  [24 23 25]\n",
            "  [26 27 28]\n",
            "  [22 21 23]]]\n",
            "Divison:  [[1.81818182 1.46153846 1.75      ]\n",
            " [1.8        1.66666667 1.72727273]\n",
            " [1.69230769 1.64285714 1.4       ]\n",
            " [1.88888889 2.25       1.6       ]]\n",
            "Power:  [[100 144 121]\n",
            " [ 81 121 100]\n",
            " [144 169 196]\n",
            " [ 64  49  81]]\n",
            "Modulus:  [[1 0 0]\n",
            " [0 1 1]\n",
            " [0 1 0]\n",
            " [0 1 1]]\n",
            "Aggregations over ufunc outputs:\n",
            "Sum of exp: 17578796209.84\n",
            "Mean of sin: 0.0058\n",
            "\n",
            "Panel total per farms [[33 30 39 24]\n",
            " [60 57 66 51]\n",
            " [45 42 51 36]]\n",
            "\n",
            "Max per farm: [39 66 51]\n",
            "Any below 40: [ True False  True]\n",
            "All above 50: [False  True False]\n",
            "\n",
            "Final KPIs:\n",
            "Overall total production across all farms: 534\n",
            "Peak value: 23 (Farm 2, Panel 3, Hour 2)\n",
            "Average per panel across all farms: [15.33 14.33 17.33 12.33]\n"
          ]
        }
      ]
    },
    {
      "cell_type": "code",
      "source": [],
      "metadata": {
        "id": "ICjmEynFhzX-"
      },
      "execution_count": null,
      "outputs": []
    },
    {
      "cell_type": "code",
      "source": [
        "arr_np1=np.array([[[1,2,3],[4,5,6]],\n",
        "                  [[34,45,56],[66,43,67]]])\n",
        "print(arr_np1)\n",
        "print(arr_np1.ndim)\n",
        "print(arr_np1.size)\n",
        "print(arr_np1.shape)"
      ],
      "metadata": {
        "colab": {
          "base_uri": "https://localhost:8080/"
        },
        "id": "5-2lvPGuEQ7a",
        "outputId": "584e9da1-8477-4bc5-b8b2-b97d31d08016"
      },
      "execution_count": 25,
      "outputs": [
        {
          "output_type": "stream",
          "name": "stdout",
          "text": [
            "[[[ 1  2  3]\n",
            "  [ 4  5  6]]\n",
            "\n",
            " [[34 45 56]\n",
            "  [66 43 67]]]\n",
            "3\n",
            "12\n",
            "(2, 2, 3)\n"
          ]
        }
      ]
    },
    {
      "cell_type": "code",
      "source": [
        "a=np.array(42)\n",
        "print(a.ndim)"
      ],
      "metadata": {
        "colab": {
          "base_uri": "https://localhost:8080/"
        },
        "id": "N-gpC7v4FSK0",
        "outputId": "4c17b88f-9fa1-40c9-961a-99d2629d9047"
      },
      "execution_count": 17,
      "outputs": [
        {
          "output_type": "stream",
          "name": "stdout",
          "text": [
            "0\n"
          ]
        }
      ]
    },
    {
      "cell_type": "code",
      "source": [
        "zeroes=np.zeros((2,5))\n",
        "print(zeroes)\n",
        "\n",
        "ones=np.ones((3,4))\n",
        "print(ones)\n",
        "\n",
        "random_arr=np.random.random((4,2))\n",
        "print(random_arr)\n",
        "\n",
        "#identity matrix\n",
        "id=np.eye(3,2)\n",
        "print(id)\n",
        "\n",
        "range_arr=np.arange(0,10,2)\n",
        "print(range_arr)\n"
      ],
      "metadata": {
        "colab": {
          "base_uri": "https://localhost:8080/"
        },
        "id": "VzeKnV6ZFjsM",
        "outputId": "eb5c009b-9ee8-45c5-b475-c0c4a7fe96e6"
      },
      "execution_count": 24,
      "outputs": [
        {
          "output_type": "stream",
          "name": "stdout",
          "text": [
            "[[0. 0. 0. 0. 0.]\n",
            " [0. 0. 0. 0. 0.]]\n",
            "[[1. 1. 1. 1.]\n",
            " [1. 1. 1. 1.]\n",
            " [1. 1. 1. 1.]]\n",
            "[[0.88059113 0.25967077]\n",
            " [0.09235108 0.20770161]\n",
            " [0.44647211 0.10500183]\n",
            " [0.78208773 0.19404926]]\n",
            "[[1. 0.]\n",
            " [0. 1.]\n",
            " [0. 0.]]\n",
            "[0 2 4 6 8]\n"
          ]
        }
      ]
    }
  ]
}